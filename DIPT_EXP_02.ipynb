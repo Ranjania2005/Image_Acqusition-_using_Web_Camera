{
 "cells": [
  {
   "cell_type": "code",
   "execution_count": null,
   "id": "32dc88ae-9b86-4bbe-b1e0-c0fbb2f71d47",
   "metadata": {},
   "outputs": [],
   "source": [
    "# Developed By: RANJANI A\n",
    "# Register Number: 212223230170"
   ]
  },
  {
   "cell_type": "code",
   "execution_count": null,
   "id": "4cc9fb06-f18d-44b5-8e94-9a2f36479e40",
   "metadata": {
    "tags": []
   },
   "outputs": [],
   "source": [
    "import cv2\n",
    "import numpy as np\n",
    "viedoCaptureObject=cv2.VideoCapture(0)\n",
    "ret,frame=viedoCaptureObject.read()\n",
    "cv2.imwrite(\"captured_frame.jpg\",frame)\n",
    "viedoCaptureObject.release()\n",
    "cv2.destroyAllWindows()\n",
    "\n",
    "\n"
   ]
  },
  {
   "cell_type": "code",
   "execution_count": null,
   "id": "7218f841-ad42-4dd6-865c-2024b7f5d083",
   "metadata": {},
   "outputs": [],
   "source": [
    "## ii) Display the video\n",
    "\n",
    "cap = cv2.VideoCapture(0)\n",
    "ret, frame = cap.read()\n",
    "cv2.imshow('captured_frame', frame)\n",
    "cv2.waitKey(10000)\n",
    "cap.release()\n",
    "cv2.destroyAllWindows()\n",
    "\n"
   ]
  },
  {
   "cell_type": "code",
   "execution_count": null,
   "id": "93bb36b7-a604-41c1-ad78-de3e85744a10",
   "metadata": {},
   "outputs": [],
   "source": [
    "## iii) Display the video by resizing the window\n",
    "\n",
    "cap=cv2.VideoCapture(0)\n",
    "ret,frame=cap.read()\n",
    "width=int(cap.get(3))\n",
    "height=int(cap.get(4))\n",
    "image=np.zeros(frame.shape,np.uint8)\n",
    "smaller_frame=cv2.resize(frame,(0,0),fx=0.5,fy=0.5)\n",
    "image[:height//2, :width//2]=smaller_frame\n",
    "image[height//2:, :width//2]=smaller_frame\n",
    "image[:height//2, width//2:]=smaller_frame\n",
    "image[height//2:, width//2:]=smaller_frame\n",
    "cv2.imshow('',image)\n",
    "cv2.waitKey(5000)  \n",
    "image_dict = {'captured_image1': image}\n",
    "cv2.imwrite('captured_image1.jpg', image)\n",
    "cap.release()\n",
    "cv2.destroyAllWindows()\n",
    "\n"
   ]
  },
  {
   "cell_type": "code",
   "execution_count": null,
   "id": "925e53b6-b80d-4dfa-ad3a-e5a37ae5db2a",
   "metadata": {},
   "outputs": [],
   "source": [
    "## iv) Rotate and display the video\n",
    "\n",
    "\n",
    "\n",
    "\n",
    "cap=cv2.VideoCapture(0)\n",
    "ret,frame=cap.read()\n",
    "width=int(cap.get(3))\n",
    "height=int(cap.get(4))\n",
    "image=np.zeros(frame.shape,np.uint8)\n",
    "smaller_frame=cv2.resize(frame,(0,0),fx=0.5,fy=0.5)\n",
    "image[:height//2, :width//2]=cv2.rotate(smaller_frame,cv2.ROTATE_180)\n",
    "image[height//2:, :width//2]=smaller_frame\n",
    "image[:height//2, width//2:]=cv2.rotate(smaller_frame,cv2.ROTATE_180)\n",
    "image[height//2:, width//2:]=smaller_frame\n",
    "cv2.imshow('',image)\n",
    "cv2.waitKey(5000) \n",
    "image_dict = {'captured_image2': image}\n",
    "cv2.imwrite('captured_image2.jpg', image)\n",
    "cap.release()\n",
    "cv2.destroyAllWindows()\n"
   ]
  },
  {
   "cell_type": "code",
   "execution_count": null,
   "id": "cab00e8f-f137-4958-9d44-6c5b87bdc2e1",
   "metadata": {},
   "outputs": [],
   "source": [
    "# Developed By: RANJANI A\n",
    "# Register Number: 212223230170"
   ]
  }
 ],
 "metadata": {
  "kernelspec": {
   "display_name": "Python 3 (ipykernel)",
   "language": "python",
   "name": "python3"
  },
  "language_info": {
   "codemirror_mode": {
    "name": "ipython",
    "version": 3
   },
   "file_extension": ".py",
   "mimetype": "text/x-python",
   "name": "python",
   "nbconvert_exporter": "python",
   "pygments_lexer": "ipython3",
   "version": "3.11.5"
  }
 },
 "nbformat": 4,
 "nbformat_minor": 5
}
